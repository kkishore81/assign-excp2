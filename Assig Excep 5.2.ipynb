{
 "cells": [
  {
   "cell_type": "code",
   "execution_count": null,
   "id": "3c0fd718-9275-4c9e-93cd-461e194846ea",
   "metadata": {},
   "outputs": [],
   "source": [
    "# Q1. Explain why we have to use the Exception class while creating a Custom Exception.\n",
    "\n",
    "#Note: Here Exception class refers to the base class for all the exceptions."
   ]
  },
  {
   "cell_type": "code",
   "execution_count": null,
   "id": "42307936-4b20-4b6d-aa13-5b7b756a7435",
   "metadata": {},
   "outputs": [],
   "source": [
    "#We  use  Exception class while creating a Custom Exception because it will act as a  base class for all exceptions. \n",
    "# Which means that any custom exception we create will inherit from the Exception class \n",
    "#and will have all of the same features as an Exception object."
   ]
  },
  {
   "cell_type": "code",
   "execution_count": null,
   "id": "388bffc3-ec0e-46e7-8d48-6ee3a4f71915",
   "metadata": {},
   "outputs": [],
   "source": [
    "# Q2 Write a python program to print Python Exception Hierarchy."
   ]
  },
  {
   "cell_type": "code",
   "execution_count": 13,
   "id": "51cd378b-cefd-41b9-927b-5b21c445c70e",
   "metadata": {},
   "outputs": [
    {
     "name": "stdout",
     "output_type": "stream",
     "text": [
      "ArithmeticError\n",
      "AssertionError\n",
      "AttributeError\n",
      "BaseException\n",
      "BlockingIOError\n",
      "BrokenPipeError\n",
      "BufferError\n",
      "BytesWarning\n",
      "ChildProcessError\n",
      "ConnectionAbortedError\n",
      "ConnectionError\n",
      "ConnectionRefusedError\n",
      "ConnectionResetError\n",
      "DeprecationWarning\n",
      "EOFError\n",
      "EncodingWarning\n",
      "EnvironmentError\n",
      "Exception\n",
      "FileExistsError\n",
      "FileNotFoundError\n",
      "FloatingPointError\n",
      "FutureWarning\n",
      "GeneratorExit\n",
      "IOError\n",
      "ImportError\n",
      "ImportWarning\n",
      "IndentationError\n",
      "IndexError\n",
      "InterruptedError\n",
      "IsADirectoryError\n",
      "KeyError\n",
      "KeyboardInterrupt\n",
      "LookupError\n",
      "MemoryError\n",
      "ModuleNotFoundError\n",
      "NameError\n",
      "NotADirectoryError\n",
      "NotImplementedError\n",
      "OSError\n",
      "OverflowError\n",
      "PendingDeprecationWarning\n",
      "PermissionError\n",
      "ProcessLookupError\n",
      "RecursionError\n",
      "ReferenceError\n",
      "ResourceWarning\n",
      "RuntimeError\n",
      "RuntimeWarning\n",
      "StopAsyncIteration\n",
      "StopIteration\n",
      "SyntaxError\n",
      "SyntaxWarning\n",
      "SystemError\n",
      "SystemExit\n",
      "TabError\n",
      "TimeoutError\n",
      "TypeError\n",
      "UnboundLocalError\n",
      "UnicodeDecodeError\n",
      "UnicodeEncodeError\n",
      "UnicodeError\n",
      "UnicodeTranslateError\n",
      "UnicodeWarning\n",
      "UserWarning\n",
      "ValueError\n",
      "Warning\n",
      "ZeroDivisionError\n"
     ]
    }
   ],
   "source": [
    "import inspect\n",
    "\n",
    "def print_exception_hierarchy():\n",
    "    for name, obj in inspect.getmembers(__builtins__):\n",
    "        if inspect.isclass(obj) and issubclass(obj, BaseException):\n",
    "            print(name)\n",
    "\n",
    "print_exception_hierarchy()"
   ]
  },
  {
   "cell_type": "code",
   "execution_count": null,
   "id": "d8a56a23-c66d-44e2-92ca-574b54b987d1",
   "metadata": {},
   "outputs": [],
   "source": [
    "#Q3. What errors are defined in the ArithmeticError class? Explain any two with an example"
   ]
  },
  {
   "cell_type": "code",
   "execution_count": null,
   "id": "40da4e77-aa48-4ce2-9d21-02599584b206",
   "metadata": {},
   "outputs": [],
   "source": [
    "Arithmetic Error class in Python is the base class for all errors that happens during arithmetic operations. \n",
    "\n",
    "It has three diffrent calsses:\n",
    "\n",
    "ZeroDivisionError:It occurs when a number is divided by zero.\n",
    "OverflowError: It occurs  when a number is too large to be represented by the computer's native integer type.\n",
    "FloatingPointError: Raised when a floating point operation cannot be performed because the result is not representable as a floating point number."
   ]
  },
  {
   "cell_type": "code",
   "execution_count": 14,
   "id": "ef43cc63-f31b-4c58-9f2a-c7fc70f556fa",
   "metadata": {},
   "outputs": [
    {
     "name": "stdout",
     "output_type": "stream",
     "text": [
      "Error: Division by Zero is not allowed\n"
     ]
    }
   ],
   "source": [
    "# eg of zerodivision error\n",
    "\n",
    "try:\n",
    "    10 / 0\n",
    "except ZeroDivisionError:\n",
    "    print(\"Error: Division by Zero is not allowed\")"
   ]
  },
  {
   "cell_type": "code",
   "execution_count": 15,
   "id": "06a72fa6-827d-4858-949a-ee56cec27ab3",
   "metadata": {},
   "outputs": [],
   "source": [
    "# eg of OverflowError\n",
    "\n",
    "try:\n",
    "    1000**1000\n",
    "except OverflowError:\n",
    "    print(\"number is too large\")"
   ]
  },
  {
   "cell_type": "code",
   "execution_count": null,
   "id": "feb58e92-fc36-49dc-ba4a-f65d002f50be",
   "metadata": {},
   "outputs": [],
   "source": [
    "# eg of FloatingPointError"
   ]
  },
  {
   "cell_type": "code",
   "execution_count": 20,
   "id": "5002827f-9472-4210-a092-3cfdb1bd3d26",
   "metadata": {},
   "outputs": [],
   "source": [
    "try:\n",
    "    5.0/1.1\n",
    "except FloatingPointError:\n",
    "    print(\"floating point number\")"
   ]
  },
  {
   "cell_type": "code",
   "execution_count": null,
   "id": "0f11dc7a-f2e8-42e7-bcf1-1609e53a14bb",
   "metadata": {},
   "outputs": [],
   "source": [
    "# Q4  Why LookupError class is used? Explain with an example KeyError and IndexError."
   ]
  },
  {
   "cell_type": "code",
   "execution_count": null,
   "id": "687bf85d-7637-4ff0-a5ed-0da1121923ae",
   "metadata": {},
   "outputs": [],
   "source": [
    "# The basic class for all errors that happen when a key or index cannot be located in a mapping or sequence is called LookupError.\n",
    " #When trying to access a key or index that doesn't exist, it is utilised to deal with issues that arise."
   ]
  },
  {
   "cell_type": "code",
   "execution_count": 25,
   "id": "04748866-f711-44a1-a456-f82dc33ff75c",
   "metadata": {},
   "outputs": [
    {
     "name": "stdout",
     "output_type": "stream",
     "text": [
      "model not found in dictionary\n"
     ]
    }
   ],
   "source": [
    "# Key error\n",
    "\n",
    "my_car = {\"name\" : 'Maruti' , 'year' :2023}\n",
    "try:\n",
    "          print(my_car['model'])\n",
    "except KeyError:\n",
    "          print(\"model not found in dictionary\")"
   ]
  },
  {
   "cell_type": "code",
   "execution_count": 28,
   "id": "671c24a0-107e-4d00-a080-e2a647e0d807",
   "metadata": {},
   "outputs": [
    {
     "name": "stdout",
     "output_type": "stream",
     "text": [
      "index Error\n"
     ]
    }
   ],
   "source": [
    "# Index Eroor\n",
    "\n",
    "my_index = [1,2,3,4,5]\n",
    "try:\n",
    "    print(my_index[5])\n",
    "except IndexError:\n",
    "    print(\"index Error\")\n",
    " "
   ]
  },
  {
   "cell_type": "code",
   "execution_count": null,
   "id": "ed06f4c8-ef6e-4faf-80bb-5bcfaf2c3be9",
   "metadata": {},
   "outputs": [],
   "source": [
    "# Q5 Explain ImportError. What is ModuleNotFoundError?"
   ]
  },
  {
   "cell_type": "code",
   "execution_count": null,
   "id": "65cb5f75-a076-41c1-854c-4c25de322830",
   "metadata": {},
   "outputs": [],
   "source": [
    "# A module import error is represented by the base class ImportError. \n",
    "#It is triggered when a coding error occurs in the module or when the module cannot be located on the Python path.\n",
    "\n",
    "#When a module cannot be found on the Python path, a subclass of ImportError called ModuleNotFoundError is raised."
   ]
  },
  {
   "cell_type": "code",
   "execution_count": null,
   "id": "ed126743-80fe-4a73-9fce-2603cb38d5f7",
   "metadata": {},
   "outputs": [],
   "source": [
    " # Q6 List down some best practices for exception handling in python."
   ]
  },
  {
   "cell_type": "code",
   "execution_count": null,
   "id": "cb34662f-b5b6-45cb-bf7c-5ac86d2c26f2",
   "metadata": {},
   "outputs": [],
   "source": [
    "# using Try Except\n",
    "# Write specific exceptions instead of catch all exceptions\n",
    "# Log Exceptions\n",
    "# Useing  descriptive exception names\n",
    "# error message should be clear to understand"
   ]
  },
  {
   "cell_type": "code",
   "execution_count": null,
   "id": "7053c46d-bd1f-4741-a564-5e84ea2ef6b1",
   "metadata": {},
   "outputs": [],
   "source": []
  }
 ],
 "metadata": {
  "kernelspec": {
   "display_name": "Python 3 (ipykernel)",
   "language": "python",
   "name": "python3"
  },
  "language_info": {
   "codemirror_mode": {
    "name": "ipython",
    "version": 3
   },
   "file_extension": ".py",
   "mimetype": "text/x-python",
   "name": "python",
   "nbconvert_exporter": "python",
   "pygments_lexer": "ipython3",
   "version": "3.10.8"
  }
 },
 "nbformat": 4,
 "nbformat_minor": 5
}
